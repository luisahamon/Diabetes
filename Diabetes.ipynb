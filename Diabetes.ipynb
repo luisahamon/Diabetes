{
  "cells": [
    {
      "cell_type": "markdown",
      "metadata": {
        "id": "view-in-github",
        "colab_type": "text"
      },
      "source": [
        "<a href=\"https://colab.research.google.com/github/luisahamon/Diabetes/blob/main/Diabetes.ipynb\" target=\"_parent\"><img src=\"https://colab.research.google.com/assets/colab-badge.svg\" alt=\"Open In Colab\"/></a>"
      ]
    },
    {
      "cell_type": "markdown",
      "metadata": {
        "id": "CE8U8yPCgznT"
      },
      "source": [
        "Problema: Descobrir fatores relevantes estão relacionados ao diabetes"
      ]
    },
    {
      "cell_type": "markdown",
      "metadata": {
        "id": "9JG84uJJhPgD"
      },
      "source": [
        "#Analise Exploratória"
      ]
    },
    {
      "cell_type": "code",
      "execution_count": 1,
      "metadata": {
        "id": "mhNxn2G10zA0"
      },
      "outputs": [],
      "source": [
        "import pandas as pd"
      ]
    },
    {
      "cell_type": "code",
      "execution_count": 2,
      "metadata": {
        "colab": {
          "base_uri": "https://localhost:8080/",
          "height": 270
        },
        "id": "_fLiL7AQ048-",
        "outputId": "3338bf8f-69ca-45af-86c1-d00cd16169ce"
      },
      "outputs": [
        {
          "output_type": "execute_result",
          "data": {
            "text/plain": [
              "    Age  Sex  HighChol  CholCheck   BMI  Smoker  HeartDiseaseorAttack  \\\n",
              "0   4.0  1.0       0.0        1.0  26.0     0.0                   0.0   \n",
              "1  12.0  1.0       1.0        1.0  26.0     1.0                   0.0   \n",
              "2  13.0  1.0       0.0        1.0  26.0     0.0                   0.0   \n",
              "3  11.0  1.0       1.0        1.0  28.0     1.0                   0.0   \n",
              "4   8.0  0.0       0.0        1.0  29.0     1.0                   0.0   \n",
              "\n",
              "   PhysActivity  Fruits  Veggies  HvyAlcoholConsump  GenHlth  MentHlth  \\\n",
              "0           1.0     0.0      1.0                0.0      3.0       5.0   \n",
              "1           0.0     1.0      0.0                0.0      3.0       0.0   \n",
              "2           1.0     1.0      1.0                0.0      1.0       0.0   \n",
              "3           1.0     1.0      1.0                0.0      3.0       0.0   \n",
              "4           1.0     1.0      1.0                0.0      2.0       0.0   \n",
              "\n",
              "   PhysHlth  DiffWalk  Stroke  HighBP  Diabetes  \n",
              "0      30.0       0.0     0.0     1.0       0.0  \n",
              "1       0.0       0.0     1.0     1.0       0.0  \n",
              "2      10.0       0.0     0.0     0.0       0.0  \n",
              "3       3.0       0.0     0.0     1.0       0.0  \n",
              "4       0.0       0.0     0.0     0.0       0.0  "
            ],
            "text/html": [
              "\n",
              "  <div id=\"df-aa51c743-c863-40b3-96fb-1ea3e566c5d0\">\n",
              "    <div class=\"colab-df-container\">\n",
              "      <div>\n",
              "<style scoped>\n",
              "    .dataframe tbody tr th:only-of-type {\n",
              "        vertical-align: middle;\n",
              "    }\n",
              "\n",
              "    .dataframe tbody tr th {\n",
              "        vertical-align: top;\n",
              "    }\n",
              "\n",
              "    .dataframe thead th {\n",
              "        text-align: right;\n",
              "    }\n",
              "</style>\n",
              "<table border=\"1\" class=\"dataframe\">\n",
              "  <thead>\n",
              "    <tr style=\"text-align: right;\">\n",
              "      <th></th>\n",
              "      <th>Age</th>\n",
              "      <th>Sex</th>\n",
              "      <th>HighChol</th>\n",
              "      <th>CholCheck</th>\n",
              "      <th>BMI</th>\n",
              "      <th>Smoker</th>\n",
              "      <th>HeartDiseaseorAttack</th>\n",
              "      <th>PhysActivity</th>\n",
              "      <th>Fruits</th>\n",
              "      <th>Veggies</th>\n",
              "      <th>HvyAlcoholConsump</th>\n",
              "      <th>GenHlth</th>\n",
              "      <th>MentHlth</th>\n",
              "      <th>PhysHlth</th>\n",
              "      <th>DiffWalk</th>\n",
              "      <th>Stroke</th>\n",
              "      <th>HighBP</th>\n",
              "      <th>Diabetes</th>\n",
              "    </tr>\n",
              "  </thead>\n",
              "  <tbody>\n",
              "    <tr>\n",
              "      <th>0</th>\n",
              "      <td>4.0</td>\n",
              "      <td>1.0</td>\n",
              "      <td>0.0</td>\n",
              "      <td>1.0</td>\n",
              "      <td>26.0</td>\n",
              "      <td>0.0</td>\n",
              "      <td>0.0</td>\n",
              "      <td>1.0</td>\n",
              "      <td>0.0</td>\n",
              "      <td>1.0</td>\n",
              "      <td>0.0</td>\n",
              "      <td>3.0</td>\n",
              "      <td>5.0</td>\n",
              "      <td>30.0</td>\n",
              "      <td>0.0</td>\n",
              "      <td>0.0</td>\n",
              "      <td>1.0</td>\n",
              "      <td>0.0</td>\n",
              "    </tr>\n",
              "    <tr>\n",
              "      <th>1</th>\n",
              "      <td>12.0</td>\n",
              "      <td>1.0</td>\n",
              "      <td>1.0</td>\n",
              "      <td>1.0</td>\n",
              "      <td>26.0</td>\n",
              "      <td>1.0</td>\n",
              "      <td>0.0</td>\n",
              "      <td>0.0</td>\n",
              "      <td>1.0</td>\n",
              "      <td>0.0</td>\n",
              "      <td>0.0</td>\n",
              "      <td>3.0</td>\n",
              "      <td>0.0</td>\n",
              "      <td>0.0</td>\n",
              "      <td>0.0</td>\n",
              "      <td>1.0</td>\n",
              "      <td>1.0</td>\n",
              "      <td>0.0</td>\n",
              "    </tr>\n",
              "    <tr>\n",
              "      <th>2</th>\n",
              "      <td>13.0</td>\n",
              "      <td>1.0</td>\n",
              "      <td>0.0</td>\n",
              "      <td>1.0</td>\n",
              "      <td>26.0</td>\n",
              "      <td>0.0</td>\n",
              "      <td>0.0</td>\n",
              "      <td>1.0</td>\n",
              "      <td>1.0</td>\n",
              "      <td>1.0</td>\n",
              "      <td>0.0</td>\n",
              "      <td>1.0</td>\n",
              "      <td>0.0</td>\n",
              "      <td>10.0</td>\n",
              "      <td>0.0</td>\n",
              "      <td>0.0</td>\n",
              "      <td>0.0</td>\n",
              "      <td>0.0</td>\n",
              "    </tr>\n",
              "    <tr>\n",
              "      <th>3</th>\n",
              "      <td>11.0</td>\n",
              "      <td>1.0</td>\n",
              "      <td>1.0</td>\n",
              "      <td>1.0</td>\n",
              "      <td>28.0</td>\n",
              "      <td>1.0</td>\n",
              "      <td>0.0</td>\n",
              "      <td>1.0</td>\n",
              "      <td>1.0</td>\n",
              "      <td>1.0</td>\n",
              "      <td>0.0</td>\n",
              "      <td>3.0</td>\n",
              "      <td>0.0</td>\n",
              "      <td>3.0</td>\n",
              "      <td>0.0</td>\n",
              "      <td>0.0</td>\n",
              "      <td>1.0</td>\n",
              "      <td>0.0</td>\n",
              "    </tr>\n",
              "    <tr>\n",
              "      <th>4</th>\n",
              "      <td>8.0</td>\n",
              "      <td>0.0</td>\n",
              "      <td>0.0</td>\n",
              "      <td>1.0</td>\n",
              "      <td>29.0</td>\n",
              "      <td>1.0</td>\n",
              "      <td>0.0</td>\n",
              "      <td>1.0</td>\n",
              "      <td>1.0</td>\n",
              "      <td>1.0</td>\n",
              "      <td>0.0</td>\n",
              "      <td>2.0</td>\n",
              "      <td>0.0</td>\n",
              "      <td>0.0</td>\n",
              "      <td>0.0</td>\n",
              "      <td>0.0</td>\n",
              "      <td>0.0</td>\n",
              "      <td>0.0</td>\n",
              "    </tr>\n",
              "  </tbody>\n",
              "</table>\n",
              "</div>\n",
              "      <button class=\"colab-df-convert\" onclick=\"convertToInteractive('df-aa51c743-c863-40b3-96fb-1ea3e566c5d0')\"\n",
              "              title=\"Convert this dataframe to an interactive table.\"\n",
              "              style=\"display:none;\">\n",
              "        \n",
              "  <svg xmlns=\"http://www.w3.org/2000/svg\" height=\"24px\"viewBox=\"0 0 24 24\"\n",
              "       width=\"24px\">\n",
              "    <path d=\"M0 0h24v24H0V0z\" fill=\"none\"/>\n",
              "    <path d=\"M18.56 5.44l.94 2.06.94-2.06 2.06-.94-2.06-.94-.94-2.06-.94 2.06-2.06.94zm-11 1L8.5 8.5l.94-2.06 2.06-.94-2.06-.94L8.5 2.5l-.94 2.06-2.06.94zm10 10l.94 2.06.94-2.06 2.06-.94-2.06-.94-.94-2.06-.94 2.06-2.06.94z\"/><path d=\"M17.41 7.96l-1.37-1.37c-.4-.4-.92-.59-1.43-.59-.52 0-1.04.2-1.43.59L10.3 9.45l-7.72 7.72c-.78.78-.78 2.05 0 2.83L4 21.41c.39.39.9.59 1.41.59.51 0 1.02-.2 1.41-.59l7.78-7.78 2.81-2.81c.8-.78.8-2.07 0-2.86zM5.41 20L4 18.59l7.72-7.72 1.47 1.35L5.41 20z\"/>\n",
              "  </svg>\n",
              "      </button>\n",
              "      \n",
              "  <style>\n",
              "    .colab-df-container {\n",
              "      display:flex;\n",
              "      flex-wrap:wrap;\n",
              "      gap: 12px;\n",
              "    }\n",
              "\n",
              "    .colab-df-convert {\n",
              "      background-color: #E8F0FE;\n",
              "      border: none;\n",
              "      border-radius: 50%;\n",
              "      cursor: pointer;\n",
              "      display: none;\n",
              "      fill: #1967D2;\n",
              "      height: 32px;\n",
              "      padding: 0 0 0 0;\n",
              "      width: 32px;\n",
              "    }\n",
              "\n",
              "    .colab-df-convert:hover {\n",
              "      background-color: #E2EBFA;\n",
              "      box-shadow: 0px 1px 2px rgba(60, 64, 67, 0.3), 0px 1px 3px 1px rgba(60, 64, 67, 0.15);\n",
              "      fill: #174EA6;\n",
              "    }\n",
              "\n",
              "    [theme=dark] .colab-df-convert {\n",
              "      background-color: #3B4455;\n",
              "      fill: #D2E3FC;\n",
              "    }\n",
              "\n",
              "    [theme=dark] .colab-df-convert:hover {\n",
              "      background-color: #434B5C;\n",
              "      box-shadow: 0px 1px 3px 1px rgba(0, 0, 0, 0.15);\n",
              "      filter: drop-shadow(0px 1px 2px rgba(0, 0, 0, 0.3));\n",
              "      fill: #FFFFFF;\n",
              "    }\n",
              "  </style>\n",
              "\n",
              "      <script>\n",
              "        const buttonEl =\n",
              "          document.querySelector('#df-aa51c743-c863-40b3-96fb-1ea3e566c5d0 button.colab-df-convert');\n",
              "        buttonEl.style.display =\n",
              "          google.colab.kernel.accessAllowed ? 'block' : 'none';\n",
              "\n",
              "        async function convertToInteractive(key) {\n",
              "          const element = document.querySelector('#df-aa51c743-c863-40b3-96fb-1ea3e566c5d0');\n",
              "          const dataTable =\n",
              "            await google.colab.kernel.invokeFunction('convertToInteractive',\n",
              "                                                     [key], {});\n",
              "          if (!dataTable) return;\n",
              "\n",
              "          const docLinkHtml = 'Like what you see? Visit the ' +\n",
              "            '<a target=\"_blank\" href=https://colab.research.google.com/notebooks/data_table.ipynb>data table notebook</a>'\n",
              "            + ' to learn more about interactive tables.';\n",
              "          element.innerHTML = '';\n",
              "          dataTable['output_type'] = 'display_data';\n",
              "          await google.colab.output.renderOutput(dataTable, element);\n",
              "          const docLink = document.createElement('div');\n",
              "          docLink.innerHTML = docLinkHtml;\n",
              "          element.appendChild(docLink);\n",
              "        }\n",
              "      </script>\n",
              "    </div>\n",
              "  </div>\n",
              "  "
            ]
          },
          "metadata": {},
          "execution_count": 2
        }
      ],
      "source": [
        "diabetes = pd.read_csv('diabetes_data.csv')\n",
        "diabetes.head()"
      ]
    },
    {
      "cell_type": "code",
      "execution_count": 3,
      "metadata": {
        "colab": {
          "base_uri": "https://localhost:8080/"
        },
        "id": "azqwrUyRVAS7",
        "outputId": "25b528a3-8fe0-4f31-e173-faf4c20e4fd7"
      },
      "outputs": [
        {
          "output_type": "execute_result",
          "data": {
            "text/plain": [
              "Age                     float64\n",
              "Sex                     float64\n",
              "HighChol                float64\n",
              "CholCheck               float64\n",
              "BMI                     float64\n",
              "Smoker                  float64\n",
              "HeartDiseaseorAttack    float64\n",
              "PhysActivity            float64\n",
              "Fruits                  float64\n",
              "Veggies                 float64\n",
              "HvyAlcoholConsump       float64\n",
              "GenHlth                 float64\n",
              "MentHlth                float64\n",
              "PhysHlth                float64\n",
              "DiffWalk                float64\n",
              "Stroke                  float64\n",
              "HighBP                  float64\n",
              "Diabetes                float64\n",
              "dtype: object"
            ]
          },
          "metadata": {},
          "execution_count": 3
        }
      ],
      "source": [
        "diabetes.dtypes"
      ]
    },
    {
      "cell_type": "code",
      "execution_count": 4,
      "metadata": {
        "colab": {
          "base_uri": "https://localhost:8080/"
        },
        "id": "IVCPobDI0lS-",
        "outputId": "ebf038ee-66b2-4684-ae38-2deeef41b84b"
      },
      "outputs": [
        {
          "output_type": "stream",
          "name": "stdout",
          "text": [
            "<class 'pandas.core.frame.DataFrame'>\n",
            "RangeIndex: 70692 entries, 0 to 70691\n",
            "Data columns (total 18 columns):\n",
            " #   Column                Non-Null Count  Dtype  \n",
            "---  ------                --------------  -----  \n",
            " 0   Age                   70692 non-null  float64\n",
            " 1   Sex                   70692 non-null  float64\n",
            " 2   HighChol              70692 non-null  float64\n",
            " 3   CholCheck             70692 non-null  float64\n",
            " 4   BMI                   70692 non-null  float64\n",
            " 5   Smoker                70692 non-null  float64\n",
            " 6   HeartDiseaseorAttack  70692 non-null  float64\n",
            " 7   PhysActivity          70692 non-null  float64\n",
            " 8   Fruits                70692 non-null  float64\n",
            " 9   Veggies               70692 non-null  float64\n",
            " 10  HvyAlcoholConsump     70692 non-null  float64\n",
            " 11  GenHlth               70692 non-null  float64\n",
            " 12  MentHlth              70692 non-null  float64\n",
            " 13  PhysHlth              70692 non-null  float64\n",
            " 14  DiffWalk              70692 non-null  float64\n",
            " 15  Stroke                70692 non-null  float64\n",
            " 16  HighBP                70692 non-null  float64\n",
            " 17  Diabetes              70692 non-null  float64\n",
            "dtypes: float64(18)\n",
            "memory usage: 9.7 MB\n"
          ]
        }
      ],
      "source": [
        "diabetes.info()"
      ]
    },
    {
      "cell_type": "markdown",
      "metadata": {
        "id": "4iWUd5GohVN1"
      },
      "source": [
        "Não há dados nulos no conjunto de dados"
      ]
    },
    {
      "cell_type": "code",
      "execution_count": 46,
      "metadata": {
        "id": "efpkS4D30xLB"
      },
      "outputs": [],
      "source": [
        "diabetes.rename(columns={'Age': 'Idade', \n",
        "                           'Sex': 'Gênero',\n",
        "                         'HighChol':'Colesterol_alto',\n",
        "                         'CholCheck': 'Exame_colesterol',\n",
        "                         'BMI': 'IMC',\n",
        "                         'Smoker': 'Fumante',\n",
        "                         'HeartDiseaseorAttack': 'Doenca_coracao',\n",
        "                         'PhysActivity': 'Atividade_fisica',\n",
        "                         'Fruits': 'Consumo_frutas',\n",
        "                         'Veggies': 'Consumo_vegetais',\n",
        "                         'HvyAlcoholConsump': 'Consumo_alcool',\n",
        "                         'MentHlth': 'Saude_mental',\n",
        "                         'PhysHlth': 'Saude_fisica',\n",
        "                         'DiffWalk': 'Dificuldade_andar_escadas',\n",
        "                         'Stroke': 'Derrame',\n",
        "                         'HighBP': 'Pressao_alta'\n",
        "                         }, inplace=True)"
      ]
    },
    {
      "cell_type": "code",
      "execution_count": 47,
      "metadata": {
        "colab": {
          "base_uri": "https://localhost:8080/",
          "height": 488
        },
        "id": "ccMJyCdtii05",
        "outputId": "3f638917-fb1f-4ea9-aa7f-3fbcc928721c"
      },
      "outputs": [
        {
          "output_type": "execute_result",
          "data": {
            "text/plain": [
              "       Idade  Gênero  Colesterol_alto  Exame_colesterol   IMC  Fumante  \\\n",
              "0        4.0     1.0              0.0               1.0  26.0      0.0   \n",
              "1       12.0     1.0              1.0               1.0  26.0      1.0   \n",
              "2       13.0     1.0              0.0               1.0  26.0      0.0   \n",
              "3       11.0     1.0              1.0               1.0  28.0      1.0   \n",
              "4        8.0     0.0              0.0               1.0  29.0      1.0   \n",
              "...      ...     ...              ...               ...   ...      ...   \n",
              "70687    6.0     0.0              1.0               1.0  37.0      0.0   \n",
              "70688   10.0     1.0              1.0               1.0  29.0      1.0   \n",
              "70689   13.0     0.0              1.0               1.0  25.0      0.0   \n",
              "70690   11.0     0.0              1.0               1.0  18.0      0.0   \n",
              "70691    9.0     0.0              1.0               1.0  25.0      0.0   \n",
              "\n",
              "       Doenca_coracao  Atividade_fisica  Consumo_frutas  Consumo_vegetais  \\\n",
              "0                 0.0               1.0             0.0               1.0   \n",
              "1                 0.0               0.0             1.0               0.0   \n",
              "2                 0.0               1.0             1.0               1.0   \n",
              "3                 0.0               1.0             1.0               1.0   \n",
              "4                 0.0               1.0             1.0               1.0   \n",
              "...               ...               ...             ...               ...   \n",
              "70687             0.0               0.0             0.0               1.0   \n",
              "70688             1.0               0.0             1.0               1.0   \n",
              "70689             1.0               0.0             1.0               0.0   \n",
              "70690             0.0               0.0             0.0               0.0   \n",
              "70691             1.0               1.0             1.0               0.0   \n",
              "\n",
              "       Consumo_alcool  GenHlth  Saude_mental  Saude_fisica  \\\n",
              "0                 0.0      3.0           5.0          30.0   \n",
              "1                 0.0      3.0           0.0           0.0   \n",
              "2                 0.0      1.0           0.0          10.0   \n",
              "3                 0.0      3.0           0.0           3.0   \n",
              "4                 0.0      2.0           0.0           0.0   \n",
              "...               ...      ...           ...           ...   \n",
              "70687             0.0      4.0           0.0           0.0   \n",
              "70688             0.0      2.0           0.0           0.0   \n",
              "70689             0.0      5.0          15.0           0.0   \n",
              "70690             0.0      4.0           0.0           0.0   \n",
              "70691             0.0      2.0           0.0           0.0   \n",
              "\n",
              "       Dificuldade_andar_escadas  Derrame  Pressao_alta  Diabetes  \n",
              "0                            0.0      0.0           1.0       0.0  \n",
              "1                            0.0      1.0           1.0       0.0  \n",
              "2                            0.0      0.0           0.0       0.0  \n",
              "3                            0.0      0.0           1.0       0.0  \n",
              "4                            0.0      0.0           0.0       0.0  \n",
              "...                          ...      ...           ...       ...  \n",
              "70687                        0.0      0.0           0.0       1.0  \n",
              "70688                        1.0      0.0           0.0       1.0  \n",
              "70689                        1.0      0.0           1.0       1.0  \n",
              "70690                        1.0      0.0           1.0       1.0  \n",
              "70691                        0.0      0.0           1.0       1.0  \n",
              "\n",
              "[70692 rows x 18 columns]"
            ],
            "text/html": [
              "\n",
              "  <div id=\"df-613ebe2e-8588-45db-9ca4-c0cc001a5d5d\">\n",
              "    <div class=\"colab-df-container\">\n",
              "      <div>\n",
              "<style scoped>\n",
              "    .dataframe tbody tr th:only-of-type {\n",
              "        vertical-align: middle;\n",
              "    }\n",
              "\n",
              "    .dataframe tbody tr th {\n",
              "        vertical-align: top;\n",
              "    }\n",
              "\n",
              "    .dataframe thead th {\n",
              "        text-align: right;\n",
              "    }\n",
              "</style>\n",
              "<table border=\"1\" class=\"dataframe\">\n",
              "  <thead>\n",
              "    <tr style=\"text-align: right;\">\n",
              "      <th></th>\n",
              "      <th>Idade</th>\n",
              "      <th>Gênero</th>\n",
              "      <th>Colesterol_alto</th>\n",
              "      <th>Exame_colesterol</th>\n",
              "      <th>IMC</th>\n",
              "      <th>Fumante</th>\n",
              "      <th>Doenca_coracao</th>\n",
              "      <th>Atividade_fisica</th>\n",
              "      <th>Consumo_frutas</th>\n",
              "      <th>Consumo_vegetais</th>\n",
              "      <th>Consumo_alcool</th>\n",
              "      <th>GenHlth</th>\n",
              "      <th>Saude_mental</th>\n",
              "      <th>Saude_fisica</th>\n",
              "      <th>Dificuldade_andar_escadas</th>\n",
              "      <th>Derrame</th>\n",
              "      <th>Pressao_alta</th>\n",
              "      <th>Diabetes</th>\n",
              "    </tr>\n",
              "  </thead>\n",
              "  <tbody>\n",
              "    <tr>\n",
              "      <th>0</th>\n",
              "      <td>4.0</td>\n",
              "      <td>1.0</td>\n",
              "      <td>0.0</td>\n",
              "      <td>1.0</td>\n",
              "      <td>26.0</td>\n",
              "      <td>0.0</td>\n",
              "      <td>0.0</td>\n",
              "      <td>1.0</td>\n",
              "      <td>0.0</td>\n",
              "      <td>1.0</td>\n",
              "      <td>0.0</td>\n",
              "      <td>3.0</td>\n",
              "      <td>5.0</td>\n",
              "      <td>30.0</td>\n",
              "      <td>0.0</td>\n",
              "      <td>0.0</td>\n",
              "      <td>1.0</td>\n",
              "      <td>0.0</td>\n",
              "    </tr>\n",
              "    <tr>\n",
              "      <th>1</th>\n",
              "      <td>12.0</td>\n",
              "      <td>1.0</td>\n",
              "      <td>1.0</td>\n",
              "      <td>1.0</td>\n",
              "      <td>26.0</td>\n",
              "      <td>1.0</td>\n",
              "      <td>0.0</td>\n",
              "      <td>0.0</td>\n",
              "      <td>1.0</td>\n",
              "      <td>0.0</td>\n",
              "      <td>0.0</td>\n",
              "      <td>3.0</td>\n",
              "      <td>0.0</td>\n",
              "      <td>0.0</td>\n",
              "      <td>0.0</td>\n",
              "      <td>1.0</td>\n",
              "      <td>1.0</td>\n",
              "      <td>0.0</td>\n",
              "    </tr>\n",
              "    <tr>\n",
              "      <th>2</th>\n",
              "      <td>13.0</td>\n",
              "      <td>1.0</td>\n",
              "      <td>0.0</td>\n",
              "      <td>1.0</td>\n",
              "      <td>26.0</td>\n",
              "      <td>0.0</td>\n",
              "      <td>0.0</td>\n",
              "      <td>1.0</td>\n",
              "      <td>1.0</td>\n",
              "      <td>1.0</td>\n",
              "      <td>0.0</td>\n",
              "      <td>1.0</td>\n",
              "      <td>0.0</td>\n",
              "      <td>10.0</td>\n",
              "      <td>0.0</td>\n",
              "      <td>0.0</td>\n",
              "      <td>0.0</td>\n",
              "      <td>0.0</td>\n",
              "    </tr>\n",
              "    <tr>\n",
              "      <th>3</th>\n",
              "      <td>11.0</td>\n",
              "      <td>1.0</td>\n",
              "      <td>1.0</td>\n",
              "      <td>1.0</td>\n",
              "      <td>28.0</td>\n",
              "      <td>1.0</td>\n",
              "      <td>0.0</td>\n",
              "      <td>1.0</td>\n",
              "      <td>1.0</td>\n",
              "      <td>1.0</td>\n",
              "      <td>0.0</td>\n",
              "      <td>3.0</td>\n",
              "      <td>0.0</td>\n",
              "      <td>3.0</td>\n",
              "      <td>0.0</td>\n",
              "      <td>0.0</td>\n",
              "      <td>1.0</td>\n",
              "      <td>0.0</td>\n",
              "    </tr>\n",
              "    <tr>\n",
              "      <th>4</th>\n",
              "      <td>8.0</td>\n",
              "      <td>0.0</td>\n",
              "      <td>0.0</td>\n",
              "      <td>1.0</td>\n",
              "      <td>29.0</td>\n",
              "      <td>1.0</td>\n",
              "      <td>0.0</td>\n",
              "      <td>1.0</td>\n",
              "      <td>1.0</td>\n",
              "      <td>1.0</td>\n",
              "      <td>0.0</td>\n",
              "      <td>2.0</td>\n",
              "      <td>0.0</td>\n",
              "      <td>0.0</td>\n",
              "      <td>0.0</td>\n",
              "      <td>0.0</td>\n",
              "      <td>0.0</td>\n",
              "      <td>0.0</td>\n",
              "    </tr>\n",
              "    <tr>\n",
              "      <th>...</th>\n",
              "      <td>...</td>\n",
              "      <td>...</td>\n",
              "      <td>...</td>\n",
              "      <td>...</td>\n",
              "      <td>...</td>\n",
              "      <td>...</td>\n",
              "      <td>...</td>\n",
              "      <td>...</td>\n",
              "      <td>...</td>\n",
              "      <td>...</td>\n",
              "      <td>...</td>\n",
              "      <td>...</td>\n",
              "      <td>...</td>\n",
              "      <td>...</td>\n",
              "      <td>...</td>\n",
              "      <td>...</td>\n",
              "      <td>...</td>\n",
              "      <td>...</td>\n",
              "    </tr>\n",
              "    <tr>\n",
              "      <th>70687</th>\n",
              "      <td>6.0</td>\n",
              "      <td>0.0</td>\n",
              "      <td>1.0</td>\n",
              "      <td>1.0</td>\n",
              "      <td>37.0</td>\n",
              "      <td>0.0</td>\n",
              "      <td>0.0</td>\n",
              "      <td>0.0</td>\n",
              "      <td>0.0</td>\n",
              "      <td>1.0</td>\n",
              "      <td>0.0</td>\n",
              "      <td>4.0</td>\n",
              "      <td>0.0</td>\n",
              "      <td>0.0</td>\n",
              "      <td>0.0</td>\n",
              "      <td>0.0</td>\n",
              "      <td>0.0</td>\n",
              "      <td>1.0</td>\n",
              "    </tr>\n",
              "    <tr>\n",
              "      <th>70688</th>\n",
              "      <td>10.0</td>\n",
              "      <td>1.0</td>\n",
              "      <td>1.0</td>\n",
              "      <td>1.0</td>\n",
              "      <td>29.0</td>\n",
              "      <td>1.0</td>\n",
              "      <td>1.0</td>\n",
              "      <td>0.0</td>\n",
              "      <td>1.0</td>\n",
              "      <td>1.0</td>\n",
              "      <td>0.0</td>\n",
              "      <td>2.0</td>\n",
              "      <td>0.0</td>\n",
              "      <td>0.0</td>\n",
              "      <td>1.0</td>\n",
              "      <td>0.0</td>\n",
              "      <td>0.0</td>\n",
              "      <td>1.0</td>\n",
              "    </tr>\n",
              "    <tr>\n",
              "      <th>70689</th>\n",
              "      <td>13.0</td>\n",
              "      <td>0.0</td>\n",
              "      <td>1.0</td>\n",
              "      <td>1.0</td>\n",
              "      <td>25.0</td>\n",
              "      <td>0.0</td>\n",
              "      <td>1.0</td>\n",
              "      <td>0.0</td>\n",
              "      <td>1.0</td>\n",
              "      <td>0.0</td>\n",
              "      <td>0.0</td>\n",
              "      <td>5.0</td>\n",
              "      <td>15.0</td>\n",
              "      <td>0.0</td>\n",
              "      <td>1.0</td>\n",
              "      <td>0.0</td>\n",
              "      <td>1.0</td>\n",
              "      <td>1.0</td>\n",
              "    </tr>\n",
              "    <tr>\n",
              "      <th>70690</th>\n",
              "      <td>11.0</td>\n",
              "      <td>0.0</td>\n",
              "      <td>1.0</td>\n",
              "      <td>1.0</td>\n",
              "      <td>18.0</td>\n",
              "      <td>0.0</td>\n",
              "      <td>0.0</td>\n",
              "      <td>0.0</td>\n",
              "      <td>0.0</td>\n",
              "      <td>0.0</td>\n",
              "      <td>0.0</td>\n",
              "      <td>4.0</td>\n",
              "      <td>0.0</td>\n",
              "      <td>0.0</td>\n",
              "      <td>1.0</td>\n",
              "      <td>0.0</td>\n",
              "      <td>1.0</td>\n",
              "      <td>1.0</td>\n",
              "    </tr>\n",
              "    <tr>\n",
              "      <th>70691</th>\n",
              "      <td>9.0</td>\n",
              "      <td>0.0</td>\n",
              "      <td>1.0</td>\n",
              "      <td>1.0</td>\n",
              "      <td>25.0</td>\n",
              "      <td>0.0</td>\n",
              "      <td>1.0</td>\n",
              "      <td>1.0</td>\n",
              "      <td>1.0</td>\n",
              "      <td>0.0</td>\n",
              "      <td>0.0</td>\n",
              "      <td>2.0</td>\n",
              "      <td>0.0</td>\n",
              "      <td>0.0</td>\n",
              "      <td>0.0</td>\n",
              "      <td>0.0</td>\n",
              "      <td>1.0</td>\n",
              "      <td>1.0</td>\n",
              "    </tr>\n",
              "  </tbody>\n",
              "</table>\n",
              "<p>70692 rows × 18 columns</p>\n",
              "</div>\n",
              "      <button class=\"colab-df-convert\" onclick=\"convertToInteractive('df-613ebe2e-8588-45db-9ca4-c0cc001a5d5d')\"\n",
              "              title=\"Convert this dataframe to an interactive table.\"\n",
              "              style=\"display:none;\">\n",
              "        \n",
              "  <svg xmlns=\"http://www.w3.org/2000/svg\" height=\"24px\"viewBox=\"0 0 24 24\"\n",
              "       width=\"24px\">\n",
              "    <path d=\"M0 0h24v24H0V0z\" fill=\"none\"/>\n",
              "    <path d=\"M18.56 5.44l.94 2.06.94-2.06 2.06-.94-2.06-.94-.94-2.06-.94 2.06-2.06.94zm-11 1L8.5 8.5l.94-2.06 2.06-.94-2.06-.94L8.5 2.5l-.94 2.06-2.06.94zm10 10l.94 2.06.94-2.06 2.06-.94-2.06-.94-.94-2.06-.94 2.06-2.06.94z\"/><path d=\"M17.41 7.96l-1.37-1.37c-.4-.4-.92-.59-1.43-.59-.52 0-1.04.2-1.43.59L10.3 9.45l-7.72 7.72c-.78.78-.78 2.05 0 2.83L4 21.41c.39.39.9.59 1.41.59.51 0 1.02-.2 1.41-.59l7.78-7.78 2.81-2.81c.8-.78.8-2.07 0-2.86zM5.41 20L4 18.59l7.72-7.72 1.47 1.35L5.41 20z\"/>\n",
              "  </svg>\n",
              "      </button>\n",
              "      \n",
              "  <style>\n",
              "    .colab-df-container {\n",
              "      display:flex;\n",
              "      flex-wrap:wrap;\n",
              "      gap: 12px;\n",
              "    }\n",
              "\n",
              "    .colab-df-convert {\n",
              "      background-color: #E8F0FE;\n",
              "      border: none;\n",
              "      border-radius: 50%;\n",
              "      cursor: pointer;\n",
              "      display: none;\n",
              "      fill: #1967D2;\n",
              "      height: 32px;\n",
              "      padding: 0 0 0 0;\n",
              "      width: 32px;\n",
              "    }\n",
              "\n",
              "    .colab-df-convert:hover {\n",
              "      background-color: #E2EBFA;\n",
              "      box-shadow: 0px 1px 2px rgba(60, 64, 67, 0.3), 0px 1px 3px 1px rgba(60, 64, 67, 0.15);\n",
              "      fill: #174EA6;\n",
              "    }\n",
              "\n",
              "    [theme=dark] .colab-df-convert {\n",
              "      background-color: #3B4455;\n",
              "      fill: #D2E3FC;\n",
              "    }\n",
              "\n",
              "    [theme=dark] .colab-df-convert:hover {\n",
              "      background-color: #434B5C;\n",
              "      box-shadow: 0px 1px 3px 1px rgba(0, 0, 0, 0.15);\n",
              "      filter: drop-shadow(0px 1px 2px rgba(0, 0, 0, 0.3));\n",
              "      fill: #FFFFFF;\n",
              "    }\n",
              "  </style>\n",
              "\n",
              "      <script>\n",
              "        const buttonEl =\n",
              "          document.querySelector('#df-613ebe2e-8588-45db-9ca4-c0cc001a5d5d button.colab-df-convert');\n",
              "        buttonEl.style.display =\n",
              "          google.colab.kernel.accessAllowed ? 'block' : 'none';\n",
              "\n",
              "        async function convertToInteractive(key) {\n",
              "          const element = document.querySelector('#df-613ebe2e-8588-45db-9ca4-c0cc001a5d5d');\n",
              "          const dataTable =\n",
              "            await google.colab.kernel.invokeFunction('convertToInteractive',\n",
              "                                                     [key], {});\n",
              "          if (!dataTable) return;\n",
              "\n",
              "          const docLinkHtml = 'Like what you see? Visit the ' +\n",
              "            '<a target=\"_blank\" href=https://colab.research.google.com/notebooks/data_table.ipynb>data table notebook</a>'\n",
              "            + ' to learn more about interactive tables.';\n",
              "          element.innerHTML = '';\n",
              "          dataTable['output_type'] = 'display_data';\n",
              "          await google.colab.output.renderOutput(dataTable, element);\n",
              "          const docLink = document.createElement('div');\n",
              "          docLink.innerHTML = docLinkHtml;\n",
              "          element.appendChild(docLink);\n",
              "        }\n",
              "      </script>\n",
              "    </div>\n",
              "  </div>\n",
              "  "
            ]
          },
          "metadata": {},
          "execution_count": 47
        }
      ],
      "source": [
        "diabetes"
      ]
    },
    {
      "cell_type": "markdown",
      "metadata": {
        "id": "VHEHuNAajfB3"
      },
      "source": [
        "*Hipóteses Iniciais*"
      ]
    },
    {
      "cell_type": "markdown",
      "metadata": {
        "id": "I0fJ3Y-ijjMr"
      },
      "source": [
        "\n",
        "\n",
        "*   Existe uma correlação positiva entre a diabetes e a idade\n",
        "*   Existe uma correlação positiva entre a diabetes e o colesterol\n",
        "*   Existe uma correlação positiva entre a diabetes e o IMC\n",
        "*   Existe uma correlação positiva entre a diabetes e doenças do coração\n",
        "*   Existe uma correlação negativa entre a diabetes e a prática de atividades físicas\n",
        "*   Existe uma correlação positiva entre a diabetes e doenças em geral, ou seja, ter ficado doente no último mês\n",
        "*   Existe uma correlação positiva entre a diabetes e pressão alta\n",
        "\n",
        "\n",
        "\n",
        "\n",
        "\n",
        "\n",
        "\n",
        "\n",
        "\n"
      ]
    },
    {
      "cell_type": "markdown",
      "metadata": {
        "id": "s8KsJfNUn_2e"
      },
      "source": [
        "#Teste de Correlação - Comparação Gráfica"
      ]
    },
    {
      "cell_type": "code",
      "execution_count": 7,
      "metadata": {
        "id": "Tl28zKrQjTJs"
      },
      "outputs": [],
      "source": [
        "import seaborn as sns"
      ]
    },
    {
      "cell_type": "code",
      "execution_count": 8,
      "metadata": {
        "id": "Jdcwh81oJvfD"
      },
      "outputs": [],
      "source": [
        "import matplotlib.pyplot as plt"
      ]
    },
    {
      "cell_type": "code",
      "execution_count": 48,
      "metadata": {
        "colab": {
          "base_uri": "https://localhost:8080/",
          "height": 584
        },
        "id": "lsJep4EqJyWf",
        "outputId": "c8ed057c-d211-4b8a-8831-32229779e910"
      },
      "outputs": [
        {
          "output_type": "display_data",
          "data": {
            "text/plain": [
              "<Figure size 2160x720 with 2 Axes>"
            ],
            "image/png": "[encoded data removed]"
          },
          "metadata": {
            "needs_background": "light"
          }
        }
      ],
      "source": [
        "plt.figure(figsize=(30, 10))\n",
        "dataplot = sns.heatmap(diabetes.corr(), cmap=\"YlGnBu\", annot= True)\n",
        "plt.show()"
      ]
    },
    {
      "cell_type": "markdown",
      "metadata": {
        "id": "7GP8BVuTTbz8"
      },
      "source": [
        "Com base nas correlações vemos que as hipóteses aparentam estar certas e que ainda existem outras variáveis com alta correlação com a diabetes - dificuldade para andar e/ou subir escadas, Derrame e Pressão alta\n",
        "\n",
        "Sendo essas duas primeiras potencialmente consequências da diabetes"
      ]
    },
    {
      "cell_type": "markdown",
      "source": [
        "#Previsão da Diabetes com Base nos Fatores de Risco"
      ],
      "metadata": {
        "id": "EQ1sQed14KcE"
      }
    },
    {
      "cell_type": "markdown",
      "source": [
        "Meu objetivo aqui é tentar prever a relação do diabetes os fatores que podem se relacionar com a mesma e em pesquisa sobre os fatores dessa doença:\n",
        "\n",
        "\n",
        "*   Pressão alta;\n",
        "*   Colesterol alto ou alterações na taxa de triglicérides no sangue;\n",
        "*   Sobrepeso, principalmente se a gordura estiver concentrada em volta da cintura;\n",
        "*   Diagnóstico de distúrbios psiquiátricos\n",
        "\n",
        "Fonte: https://www.gov.br/saude/pt-br/assuntos/saude-de-a-a-z/d/diabetes\n",
        "\n",
        "\n",
        "\n"
      ],
      "metadata": {
        "id": "6Y1dx8kA4TL2"
      }
    },
    {
      "cell_type": "markdown",
      "source": [
        "Primeiro verifico quantas pessoas tem no total e quantas tem diabetes"
      ],
      "metadata": {
        "id": "4WHBPnGlNP0R"
      }
    },
    {
      "cell_type": "code",
      "execution_count": 10,
      "metadata": {
        "id": "ogIw1KuRVi7x",
        "colab": {
          "base_uri": "https://localhost:8080/"
        },
        "outputId": "17ffd3a0-b862-4740-deb5-5c9f21f03dc2"
      },
      "outputs": [
        {
          "output_type": "stream",
          "name": "stdout",
          "text": [
            "70692\n"
          ]
        }
      ],
      "source": [
        "total = diabetes['Idade'].count()\n",
        "print(total)"
      ]
    },
    {
      "cell_type": "code",
      "source": [
        "tem_diabetes = []\n",
        "for i in range(len(diabetes)):\n",
        "  if diabetes['Diabetes'][i] == 1:\n",
        "    tem_diabetes.append(diabetes['Diabetes'][i])\n",
        "len(tem_diabetes)"
      ],
      "metadata": {
        "colab": {
          "base_uri": "https://localhost:8080/"
        },
        "id": "xvDOtuWbNbtv",
        "outputId": "8effce4b-6cd0-45ab-9a19-d4514020875b"
      },
      "execution_count": 11,
      "outputs": [
        {
          "output_type": "execute_result",
          "data": {
            "text/plain": [
              "35346"
            ]
          },
          "metadata": {},
          "execution_count": 11
        }
      ]
    },
    {
      "cell_type": "code",
      "source": [
        "perc = 35346 / 70692\n",
        "perc"
      ],
      "metadata": {
        "colab": {
          "base_uri": "https://localhost:8080/"
        },
        "id": "ni_OEJb_PXZR",
        "outputId": "71288c69-9386-4db6-a40d-b80a0f2e921d"
      },
      "execution_count": 12,
      "outputs": [
        {
          "output_type": "execute_result",
          "data": {
            "text/plain": [
              "0.5"
            ]
          },
          "metadata": {},
          "execution_count": 12
        }
      ]
    },
    {
      "cell_type": "markdown",
      "source": [
        "Assim, descobri que há 70692 pessoas no total e dessas 35346 pessoas apresentam a doença, ou seja, metade do conjunto de dados"
      ],
      "metadata": {
        "id": "iNWNRVaWPIhc"
      }
    },
    {
      "cell_type": "markdown",
      "source": [
        "#Criando Dados de Treino e Dados de Teste"
      ],
      "metadata": {
        "id": "msUG58taP0qd"
      }
    },
    {
      "cell_type": "code",
      "source": [
        "from sklearn.ensemble import RandomForestClassifier\n",
        "from sklearn import preprocessing\n",
        "from sklearn.metrics import accuracy_score\n",
        "from sklearn.model_selection import StratifiedShuffleSplit"
      ],
      "metadata": {
        "id": "_mgtqcnyR0HH"
      },
      "execution_count": 13,
      "outputs": []
    },
    {
      "cell_type": "code",
      "source": [
        "x = diabetes.drop('Diabetes', axis=1).values\n",
        "y = diabetes['Diabetes'].values"
      ],
      "metadata": {
        "id": "NSVRVoTSN8-4"
      },
      "execution_count": 14,
      "outputs": []
    },
    {
      "cell_type": "code",
      "source": [
        "def validador(x, y):\n",
        "  validador = StratifiedShuffleSplit(n_splits=1, test_size=0.2, random_state=0)\n",
        "  for treino_id, teste_id in validador.split(x, y):\n",
        "    x_treino, x_teste = x[treino_id], x[teste_id]\n",
        "    y_treino, y_teste = y[treino_id], y[teste_id]\n",
        "    return x_treino, x_teste, y_treino, y_teste"
      ],
      "metadata": {
        "id": "KQ-oLLd0QNJl"
      },
      "execution_count": 15,
      "outputs": []
    },
    {
      "cell_type": "markdown",
      "source": [
        "#Criação da Árvore de Decisão"
      ],
      "metadata": {
        "id": "Cm7ESWZyQXej"
      }
    },
    {
      "cell_type": "code",
      "source": [
        "from sklearn import tree\n",
        "def classificador(validador, x_treino, x_teste, y_treino):\n",
        "  classificador = tree.DecisionTreeClassifier()\n",
        "  arvore = classificador.fit(x_treino, y_treino)\n",
        "  y_pred = arvore.predict(x_teste)\n",
        "  return y_pred"
      ],
      "metadata": {
        "id": "Cs3yLmWhQPAQ"
      },
      "execution_count": 16,
      "outputs": []
    },
    {
      "cell_type": "code",
      "source": [
        "import matplotlib.pyplot as plt\n",
        "def salvar(classificador, nome):\n",
        "  plt.figure(figsize=(200,100))\n",
        "  tree.plot_tree(classificador, filled=True, fontsize=14)\n",
        "  plt.savefig(nome)"
      ],
      "metadata": {
        "id": "zQHgNNFGQTkR"
      },
      "execution_count": 17,
      "outputs": []
    },
    {
      "cell_type": "code",
      "source": [
        "X = diabetes.drop('Diabetes', axis=1).values\n",
        "Y = diabetes['Diabetes'].values\n",
        "x_treino, x_teste, y_treino, y_teste = validador(X, Y)\n",
        "classificador_arvore_decisao = tree.DecisionTreeClassifier()\n",
        "y_pred_decisao = classificador(classificador_arvore_decisao, x_treino, x_teste, y_treino)"
      ],
      "metadata": {
        "id": "Dux05RIVQhIf"
      },
      "execution_count": 18,
      "outputs": []
    },
    {
      "cell_type": "code",
      "source": [
        "classificador_arvore_decisao.fit(x_treino, y_treino)"
      ],
      "metadata": {
        "colab": {
          "base_uri": "https://localhost:8080/"
        },
        "id": "k0mSGYBsSAP9",
        "outputId": "24f050f8-ff7f-4807-d162-2a1238b48b44"
      },
      "execution_count": 19,
      "outputs": [
        {
          "output_type": "execute_result",
          "data": {
            "text/plain": [
              "DecisionTreeClassifier()"
            ]
          },
          "metadata": {},
          "execution_count": 19
        }
      ]
    },
    {
      "cell_type": "markdown",
      "source": [
        "#Validação do Modelo"
      ],
      "metadata": {
        "id": "NkG3OXnkSMtT"
      }
    },
    {
      "cell_type": "code",
      "source": [
        "from sklearn.metrics import accuracy_score\n",
        "from sklearn.metrics import confusion_matrix\n",
        "from sklearn.metrics import precision_score\n",
        "from sklearn.metrics import recall_score\n",
        "def validar_arvore(y_test, y_pred):\n",
        "  print('acurácia: {}'.format(accuracy_score(y_test, y_pred)))\n",
        "  print('precisão: {}'.format(precision_score(y_test, y_pred)))\n",
        "  print('recall: {}'.format(recall_score(y_test, y_pred)))\n",
        "  print('matriz de confusão {}'.format(confusion_matrix(y_test, y_pred)))"
      ],
      "metadata": {
        "id": "oTWAQqCSSFHW"
      },
      "execution_count": 20,
      "outputs": []
    },
    {
      "cell_type": "code",
      "source": [
        "validar_arvore(y_teste, y_pred_decisao)"
      ],
      "metadata": {
        "colab": {
          "base_uri": "https://localhost:8080/"
        },
        "id": "hLOW911PSRwz",
        "outputId": "8088c0cf-6db0-409d-9026-f25231f03cba"
      },
      "execution_count": 21,
      "outputs": [
        {
          "output_type": "stream",
          "name": "stdout",
          "text": [
            "acurácia: 0.6569064290260981\n",
            "precisão: 0.6642962962962963\n",
            "recall: 0.6343188569811855\n",
            "matriz de confusão [[4804 2266]\n",
            " [2585 4484]]\n"
          ]
        }
      ]
    },
    {
      "cell_type": "markdown",
      "source": [
        "Em uma primeira tentativa de previsão o modelo obteve:\n",
        "\n",
        "65,78% de acurácia\n",
        "\n",
        "66,63 % de precisão\n",
        "\n",
        "63,2% de recall"
      ],
      "metadata": {
        "id": "hbi4ZmtRSZsZ"
      }
    },
    {
      "cell_type": "markdown",
      "source": [
        "#Teste de ajuste dos Parâmetros"
      ],
      "metadata": {
        "id": "9kDLfQv9S5yD"
      }
    },
    {
      "cell_type": "markdown",
      "source": [
        "Vou tentar mudar alguns parâmetros para melhorar o modelo"
      ],
      "metadata": {
        "id": "arfgxJuaS-LL"
      }
    },
    {
      "cell_type": "markdown",
      "source": [
        "adicionando um max_depth, ou seja a profundidade máxima da árvore de decisão"
      ],
      "metadata": {
        "id": "LueZ2yN1TRjJ"
      }
    },
    {
      "cell_type": "code",
      "source": [
        "classificador_arvore_decisao = tree.DecisionTreeClassifier(max_depth=10, random_state=0)"
      ],
      "metadata": {
        "id": "bjcV9SFlSVYu"
      },
      "execution_count": 22,
      "outputs": []
    },
    {
      "cell_type": "code",
      "source": [
        "y_pred_decisao = classificador(classificador_arvore_decisao, x_treino, x_teste, y_treino)"
      ],
      "metadata": {
        "id": "0Id7REZGTEzO"
      },
      "execution_count": 23,
      "outputs": []
    },
    {
      "cell_type": "code",
      "source": [
        "validar_arvore(y_teste, y_pred_decisao)"
      ],
      "metadata": {
        "colab": {
          "base_uri": "https://localhost:8080/"
        },
        "id": "1pbVAi9BTMHS",
        "outputId": "c9759124-0e16-4594-bf64-17c89c644b20"
      },
      "execution_count": 24,
      "outputs": [
        {
          "output_type": "stream",
          "name": "stdout",
          "text": [
            "acurácia: 0.6594525779758116\n",
            "precisão: 0.6675089179548157\n",
            "recall: 0.63530909605319\n",
            "matriz de confusão [[4833 2237]\n",
            " [2578 4491]]\n"
          ]
        }
      ]
    },
    {
      "cell_type": "markdown",
      "source": [
        "Dessa vez o modelo obteve:\n",
        "\n",
        "65,54% de acurácia\n",
        "\n",
        "66,39 % de precisão\n",
        "\n",
        "63,96% de recall\n",
        "\n",
        "Houveram pequenas melhoras no recall mas as outras medidas pioraram"
      ],
      "metadata": {
        "id": "Xj7-rTTHTkZR"
      }
    },
    {
      "cell_type": "code",
      "source": [
        "classificador_arvore_decisao = tree.DecisionTreeClassifier(max_depth=5, random_state=0)"
      ],
      "metadata": {
        "id": "Uj7udPW-TQcO"
      },
      "execution_count": 25,
      "outputs": []
    },
    {
      "cell_type": "code",
      "source": [
        "y_pred_decisao = classificador(classificador_arvore_decisao, x_treino, x_teste, y_treino)"
      ],
      "metadata": {
        "id": "EjgZqxHmT9rG"
      },
      "execution_count": 26,
      "outputs": []
    },
    {
      "cell_type": "code",
      "source": [
        "validar_arvore(y_teste, y_pred_decisao)"
      ],
      "metadata": {
        "colab": {
          "base_uri": "https://localhost:8080/"
        },
        "id": "nnREzJPXT_5M",
        "outputId": "70ea6939-7669-41cf-964e-85d55c4fa54c"
      },
      "execution_count": 27,
      "outputs": [
        {
          "output_type": "stream",
          "name": "stdout",
          "text": [
            "acurácia: 0.6583916825800976\n",
            "precisão: 0.6677656226584745\n",
            "recall: 0.6303579006931673\n",
            "matriz de confusão [[4853 2217]\n",
            " [2613 4456]]\n"
          ]
        }
      ]
    },
    {
      "cell_type": "markdown",
      "source": [
        "Ainda houve um melhora praticamente insignificante na precisão mas as outras medidas pioraram um pouco"
      ],
      "metadata": {
        "id": "3UJI8nlvUKTH"
      }
    },
    {
      "cell_type": "markdown",
      "source": [
        "Explicação das medidas\n",
        "\n",
        "\n",
        "*   Acurácia: indica a performance geral do modelo\n",
        "*   Precisão: dentre os casos ditos pelo modelo como positivos quantos % ele acertou\n",
        "*   Recall: dentre os casos positivos no mundo real, quantos % o modelo classificou corretamente\n",
        "\n",
        "\n",
        "\n"
      ],
      "metadata": {
        "id": "WDg3fJfCU_Hk"
      }
    },
    {
      "cell_type": "markdown",
      "source": [
        "#Teste com AdaBoost"
      ],
      "metadata": {
        "id": "k44yayKpV6j2"
      }
    },
    {
      "cell_type": "markdown",
      "source": [
        "Como forma de tentar melhorar o desempenho vou implementar o algoritmo AdaBoost, ele funciona combinando vário classificadores fracos para criar um classificador forte"
      ],
      "metadata": {
        "id": "UdwpNEUaWF2z"
      }
    },
    {
      "cell_type": "code",
      "source": [
        "from sklearn.ensemble import AdaBoostClassifier\n",
        "classificador_ada_boost = AdaBoostClassifier(random_state=0)\n",
        "y_pred_adaboost = classificador(classificador_ada_boost, x_treino, x_teste, y_treino)"
      ],
      "metadata": {
        "id": "ju-Wn4mpVC4u"
      },
      "execution_count": 28,
      "outputs": []
    },
    {
      "cell_type": "code",
      "source": [
        "validar_arvore(y_teste, y_pred_adaboost)"
      ],
      "metadata": {
        "colab": {
          "base_uri": "https://localhost:8080/"
        },
        "id": "hCqe2bHZWjnb",
        "outputId": "3d68c8cc-c460-45e9-d513-8285deeba123"
      },
      "execution_count": 29,
      "outputs": [
        {
          "output_type": "stream",
          "name": "stdout",
          "text": [
            "acurácia: 0.66008911521324\n",
            "precisão: 0.6669617824996311\n",
            "recall: 0.6394115150657802\n",
            "matriz de confusão [[4813 2257]\n",
            " [2549 4520]]\n"
          ]
        }
      ]
    },
    {
      "cell_type": "markdown",
      "source": [
        "Houveram pequenas melhoras, apesar do recall ter caido um pouco\n",
        "\n",
        "\n",
        "66,12% de acurácia\n",
        "\n",
        "66,94 % de precisão\n",
        "\n",
        "63,67% de recall\n",
        "\n"
      ],
      "metadata": {
        "id": "tbHT5pw5WtK7"
      }
    },
    {
      "cell_type": "markdown",
      "source": [
        "Implementando o parâmetro n_estimators, que é o número de classificadores fracos que o modelo vai usar"
      ],
      "metadata": {
        "id": "DaRRKjsFXEXo"
      }
    },
    {
      "cell_type": "code",
      "source": [
        "classificador_ada_boost = AdaBoostClassifier(random_state=0, n_estimators=500)\n",
        "y_pred_adaboost = classificador(classificador_ada_boost, x_treino, x_teste, y_treino)"
      ],
      "metadata": {
        "id": "tG8_vvFwWrWr"
      },
      "execution_count": 30,
      "outputs": []
    },
    {
      "cell_type": "code",
      "source": [
        "validar_arvore(y_teste, y_pred_adaboost)"
      ],
      "metadata": {
        "colab": {
          "base_uri": "https://localhost:8080/"
        },
        "id": "Gc6eDo-yXcmu",
        "outputId": "3c8c4213-2180-44ae-8478-6779fcb97693"
      },
      "execution_count": 31,
      "outputs": [
        {
          "output_type": "stream",
          "name": "stdout",
          "text": [
            "acurácia: 0.6604427470118113\n",
            "precisão: 0.6680996145864215\n",
            "recall: 0.6375724996463432\n",
            "matriz de confusão [[4831 2239]\n",
            " [2562 4507]]\n"
          ]
        }
      ]
    },
    {
      "cell_type": "markdown",
      "source": [
        "Mudou pouco os resultados"
      ],
      "metadata": {
        "id": "bCrY4qhTXtoB"
      }
    },
    {
      "cell_type": "markdown",
      "source": [
        "#Seleção Baseada em Fatores"
      ],
      "metadata": {
        "id": "_mdVb6dSxgfI"
      }
    },
    {
      "cell_type": "markdown",
      "source": [
        "Vou selecionar os fatores mais importantes para a predição afim de melhorar o resultado"
      ],
      "metadata": {
        "id": "-IOgy4x9xnEU"
      }
    },
    {
      "cell_type": "code",
      "source": [
        "from sklearn.feature_selection import RFE\n",
        "from sklearn.tree import DecisionTreeClassifier\n",
        "clf = DecisionTreeClassifier(max_leaf_nodes=10)\n",
        "feature_selection = RFE(clf, n_features_to_select=5, step=1)"
      ],
      "metadata": {
        "id": "cBS06a_by2pH"
      },
      "execution_count": 41,
      "outputs": []
    },
    {
      "cell_type": "code",
      "source": [
        "fs = feature_selection.fit(X, y)"
      ],
      "metadata": {
        "id": "AHEXC1-Jy61-"
      },
      "execution_count": 42,
      "outputs": []
    },
    {
      "cell_type": "code",
      "source": [
        "fs.support_"
      ],
      "metadata": {
        "colab": {
          "base_uri": "https://localhost:8080/"
        },
        "id": "50xFYOTtz6Qe",
        "outputId": "2990e3c4-2b10-4982-976b-ea3fd8ec59dd"
      },
      "execution_count": 43,
      "outputs": [
        {
          "output_type": "execute_result",
          "data": {
            "text/plain": [
              "array([False, False, False, False, False, False, False, False, False,\n",
              "       False, False, False, False,  True,  True,  True,  True,  True])"
            ]
          },
          "metadata": {},
          "execution_count": 43
        }
      ]
    },
    {
      "cell_type": "markdown",
      "source": [
        "Aqui o algoritmo confirmou as suspeitas, o diabetes está correlacionado à \n",
        "pressão elevada, Derrame, Saúde Fisica e Dificuldades para andar e/ou subir escadas"
      ],
      "metadata": {
        "id": "RYsg9Q-T0Q-1"
      }
    },
    {
      "cell_type": "code",
      "source": [
        "for i in range(X.shape[1]):\n",
        "    print('Column: %d, Selected %s, Rank: %.3f' % (i, fs.support_[i], fs.ranking_[i]))"
      ],
      "metadata": {
        "colab": {
          "base_uri": "https://localhost:8080/"
        },
        "id": "Tf-cwoXs0GM7",
        "outputId": "1b18af61-89c9-4c1a-9bc9-f7d244c681c3"
      },
      "execution_count": 45,
      "outputs": [
        {
          "output_type": "stream",
          "name": "stdout",
          "text": [
            "Column: 0, Selected False, Rank: 14.000\n",
            "Column: 1, Selected False, Rank: 13.000\n",
            "Column: 2, Selected False, Rank: 12.000\n",
            "Column: 3, Selected False, Rank: 11.000\n",
            "Column: 4, Selected False, Rank: 10.000\n",
            "Column: 5, Selected False, Rank: 9.000\n",
            "Column: 6, Selected False, Rank: 8.000\n",
            "Column: 7, Selected False, Rank: 7.000\n",
            "Column: 8, Selected False, Rank: 6.000\n",
            "Column: 9, Selected False, Rank: 5.000\n",
            "Column: 10, Selected False, Rank: 4.000\n",
            "Column: 11, Selected False, Rank: 3.000\n",
            "Column: 12, Selected False, Rank: 2.000\n",
            "Column: 13, Selected True, Rank: 1.000\n",
            "Column: 14, Selected True, Rank: 1.000\n",
            "Column: 15, Selected True, Rank: 1.000\n",
            "Column: 16, Selected True, Rank: 1.000\n",
            "Column: 17, Selected True, Rank: 1.000\n"
          ]
        }
      ]
    },
    {
      "cell_type": "markdown",
      "source": [
        "#Conclusão"
      ],
      "metadata": {
        "id": "vDWfe-gB1ZWA"
      }
    },
    {
      "cell_type": "markdown",
      "source": [
        "Com esse projeto se criou um algoritmo capaz de predizer a incidência de diabetes com base em perguntas clínicas\n",
        "\n",
        "Assim foi possível chegar a um nível de acurácia de 66 % - ou seja 66% dos pacientes receberiam o diagnóstico correto sem a utilização de exames, com esse número podendo subir se a essa técnica for somada a realização dos mesmos.\n",
        "\n",
        "Assim, diante desses casos pode-se extrair algumas características recorrentes em pacientes com esse quadro, são elas:\n",
        "\n",
        "-Saúde Física e imunidade debilitada\n",
        "\n",
        "-Dificuldades de locomoção\n",
        "\n",
        "-Maior ocorrência de derrames\n",
        "\n",
        "-Maior taxa de pressão alta (principal característica associada ao diabetes segundo a análise)"
      ],
      "metadata": {
        "id": "3-7IW6eq1dd0"
      }
    },
    {
      "cell_type": "code",
      "source": [],
      "metadata": {
        "id": "QAgiOK_F1a7W"
      },
      "execution_count": null,
      "outputs": []
    }
  ],
  "metadata": {
    "colab": {
      "provenance": [],
      "authorship_tag": "ABX9TyMyeW4GmOMSkBMiexxgFb5E",
      "include_colab_link": true
    },
    "kernelspec": {
      "display_name": "Python 3",
      "name": "python3"
    },
    "language_info": {
      "name": "python"
    }
  },
  "nbformat": 4,
  "nbformat_minor": 0
}